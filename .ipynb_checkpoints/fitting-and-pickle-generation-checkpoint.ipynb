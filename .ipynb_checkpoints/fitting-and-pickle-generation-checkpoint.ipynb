{
 "cells": [
  {
   "cell_type": "markdown",
   "metadata": {},
   "source": [
    "## Fitting Routine and Pickle Generation\n",
    "\n",
    "Use a Gaussian fitting routine and powerlaw corrections to store important information about each spectra in a pickle (.pkl) file. Contents include:  \n",
    "\n",
    "* "
   ]
  },
  {
   "cell_type": "code",
   "execution_count": 5,
   "metadata": {},
   "outputs": [],
   "source": [
    "import numpy as np\n",
    "import matplotlib\n",
    "import pysis\n",
    "import os\n",
    "import pickle\n",
    "import scipy.optimize as sco\n",
    "import time\n",
    "import ast\n",
    "from astropy.time import Time\n",
    "from PIL import Image\n",
    "import matplotlib.pyplot as plt\n",
    "\n",
    "vims_wave = np.loadtxt('/home/alanyu/Dropbox (MIT)/VIMS_UROP/vims_wave.txt') "
   ]
  },
  {
   "cell_type": "markdown",
   "metadata": {},
   "source": [
    "### Define skewed gaussian\n",
    "\n",
    "PDF:\n",
    "$\\phi(x) = \\frac{1}{\\sigma \\sqrt{2\\pi}} e^{\\frac{-x^2}{2}}$  \n",
    "\n",
    "CDF:\n",
    "$\\Phi(x) = \\frac{1}{2}\\left[1+\\textrm{erf}\\left(\\frac{x}{\\sqrt{2}}\\right)\\right]$\n",
    "\n"
   ]
  },
  {
   "cell_type": "code",
   "execution_count": 6,
   "metadata": {},
   "outputs": [],
   "source": [
    "from scipy import pi,sqrt,exp\n",
    "from scipy.special import erf\n",
    "\n",
    "from pylab import plot,show\n",
    "\n",
    "def pdf(x):\n",
    "    return 1/sqrt(2*pi) * exp(-x**2/2)\n",
    "\n",
    "def cdf(x):\n",
    "    return (1 + erf(x/sqrt(2))) / 2\n",
    "\n",
    "def skew(x,e=0,w=1,a=0):\n",
    "    t = (x-e) / w\n",
    "    return 2 / w * pdf(t) * cdf(a*t)"
   ]
  },
  {
   "cell_type": "code",
   "execution_count": 8,
   "metadata": {},
   "outputs": [
    {
     "name": "stderr",
     "output_type": "stream",
     "text": [
      "<ipython-input-6-d23855c1b884>:7: DeprecationWarning: scipy.sqrt is deprecated and will be removed in SciPy 2.0.0, use numpy.lib.scimath.sqrt instead\n",
      "  return 1/sqrt(2*pi) * exp(-x**2/2)\n",
      "<ipython-input-6-d23855c1b884>:7: DeprecationWarning: scipy.exp is deprecated and will be removed in SciPy 2.0.0, use numpy.exp instead\n",
      "  return 1/sqrt(2*pi) * exp(-x**2/2)\n",
      "<ipython-input-6-d23855c1b884>:10: DeprecationWarning: scipy.sqrt is deprecated and will be removed in SciPy 2.0.0, use numpy.lib.scimath.sqrt instead\n",
      "  return (1 + erf(x/sqrt(2))) / 2\n"
     ]
    },
    {
     "data": {
      "image/png": "[encoded data removed]",
      "text/plain": [
       "<Figure size 432x288 with 1 Axes>"
      ]
     },
     "metadata": {
      "needs_background": "light"
     },
     "output_type": "display_data"
    }
   ],
   "source": [
    "\n",
    "n = 2**10\n",
    "\n",
    "e = 1.0 # location\n",
    "w = 2.0 # scale\n",
    "\n",
    "x = np.linspace(-10,10,n) \n",
    "\n",
    "\n",
    "p = skew(x,e,w,a)\n",
    "plt.plot(x,p)\n",
    "\n",
    "plt.show()"
   ]
  },
  {
   "cell_type": "code",
   "execution_count": null,
   "metadata": {},
   "outputs": [],
   "source": []
  }
 ],
 "metadata": {
  "kernelspec": {
   "display_name": "Python 3",
   "language": "python",
   "name": "python3"
  },
  "language_info": {
   "codemirror_mode": {
    "name": "ipython",
    "version": 3
   },
   "file_extension": ".py",
   "mimetype": "text/x-python",
   "name": "python",
   "nbconvert_exporter": "python",
   "pygments_lexer": "ipython3",
   "version": "3.8.3"
  }
 },
 "nbformat": 4,
 "nbformat_minor": 4
}
