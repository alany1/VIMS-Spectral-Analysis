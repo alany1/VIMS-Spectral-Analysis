{
 "cells": [
  {
   "cell_type": "markdown",
   "metadata": {},
   "source": [
    "<h3>Navigation information</h3>\n",
    "\n",
    "<ol start='0'>\n",
    "    <li> Number of Counts </li>\n",
    "    <li>Phase</li>\n",
    "    <li>Emission</li>\n",
    "    <li>Incidence</li>\n",
    "    <li>Local Emission</li>\n",
    "    <li>Local Incidence</li>\n",
    "    <li>Latitude</li>\n",
    "    <li>Longitude</li>\n",
    "    <li>Pixel Resolution</li>\n",
    "    <li>Line Resolution</li>\n",
    "    <li>Sample Resolution</li>\n",
    "    <li>Detector Resoltion</li>\n",
    "    <li>North Azimuth</li>\n",
    "    <li>Sun Azimuth</li>\n",
    "    <li>Spacecraft Azimuth</li>\n",
    "    <li>Off Nadir Angle</li>\n",
    "    <li>Subspacecraft Ground Azimuth</li>\n",
    "    <li>Subsolar Ground Azimuth</li>\n",
    "    <li>Morphology = Pixel Resolution/cos(Emission Angle)</li>\n",
    "    <li>Albedo = PixelResolution * [(1 / cos(EmissionAngle)) + (1 / cos(IncidenceAngle))] </li>\n",
    "    <li>Right Ascension </li>\n",
    "    <li>Declination </li>\n",
    "    <li>Body Fixed Coordinate X </li>\n",
    "    <li> Body Fixed Coordinate Y</li>\n",
    "    <li> Body Fixed Coordinate Z </li>\n",
    "</ol>"
   ]
  },
  {
   "cell_type": "code",
   "execution_count": 1,
   "metadata": {},
   "outputs": [
    {
     "name": "stderr",
     "output_type": "stream",
     "text": [
      "/home/alanyu/anaconda3/lib/python3.8/site-packages/pysis/env.py:33: RuntimeWarning: Could not find isis. Is `ISISROOT` set?\n",
      "  warnings.warn('Could not find isis. Is `ISISROOT` set?', RuntimeWarning)\n"
     ]
    }
   ],
   "source": [
    "import numpy as np\n",
    "import matplotlib\n",
    "import pysis\n",
    "matplotlib.use('Qt4Agg')\n",
    "from matplotlib import pyplot as plt\n",
    "import scipy.optimize as sco\n",
    "vims_wave = np.loadtxt('/home/alanyu/Dropbox (MIT)/VIMS_UROP/vims_wave.txt') "
   ]
  },
  {
   "cell_type": "code",
   "execution_count": 2,
   "metadata": {},
   "outputs": [],
   "source": [
    "data = pysis.CubeFile('/home/alanyu/Dropbox (MIT)/VIMS_UROP/data/2005359T100445_2005360T101919/CM_1514284191_1_ir.cub').data\n",
    "lbl = pysis.CubeFile('/home/alanyu/Dropbox (MIT)/VIMS_UROP/data/2005359T100445_2005360T101919/CM_1514284191_1_ir.cub').label\n",
    "nav = pysis.CubeFile('/home/alanyu/Dropbox (MIT)/VIMS_UROP/data/2005359T100445_2005360T101919/CM_1514284191_1_ir_nav.cub').data"
   ]
  },
  {
   "cell_type": "code",
   "execution_count": 3,
   "metadata": {},
   "outputs": [],
   "source": [
    "def plot_spectra(cube_data, navigation, point):\n",
    "    '''\n",
    "    Point: tuple specifying (x,y) coordinate of interest.\n",
    "    \n",
    "    Plots spectra in the two micron window at Point.\n",
    "    '''\n",
    "    \n",
    "    plt.plot(vims_wave[50:85],data[50:85,point[0],point[1]])\n",
    "    \n",
    "    plt.show()"
   ]
  },
  {
   "cell_type": "code",
   "execution_count": 4,
   "metadata": {},
   "outputs": [],
   "source": [
    "#plot_spectra(data,nav,(40,20))"
   ]
  },
  {
   "cell_type": "code",
   "execution_count": 5,
   "metadata": {},
   "outputs": [],
   "source": [
    "def constant_value_nav(nav,lbl, nav_number,value):\n",
    "    \"\"\"\n",
    "    Given navigation data, an index into nav measurements, and a value, returns a set of all (i,j) with that value in nav. \n",
    "    \"\"\"\n",
    "    l=lbl['IsisCube']['Instrument']['SwathLength']\n",
    "    w=lbl['IsisCube']['Instrument']['SwathWidth']\n",
    "    return [(i,j) for i in range(l) for j in range(w) if round(nav[nav_number,i,j])==value]\n"
   ]
  },
  {
   "cell_type": "code",
   "execution_count": 6,
   "metadata": {},
   "outputs": [],
   "source": [
    "def gaussian(x,mean,sigma,A):\n",
    "    \n",
    "    return A*np.exp(-((x-mean)**2.)/(2.*sigma**2))\n",
    "\n",
    "def powerlaw(x,a, k, c):\n",
    "    \n",
    "    return a*x**k + c\n",
    "\n",
    "band_channels = [29,30,31,32,47,48,49,50,51,52,53,54,55,84,85,86,87,88,89,90] + [i for i in range(160,181)] "
   ]
  },
  {
   "cell_type": "code",
   "execution_count": 7,
   "metadata": {},
   "outputs": [],
   "source": [
    "def powerlaw_and_gaussian(data,point):\n",
    "    '''\n",
    "    Adjust data with powerlaw and fit gaussian.\n",
    "    '''\n",
    "    band_channels = [29,30,31,32,47,48,49,50,51,52,53,54,55,84,85,86,87,88,89,90] + [i for i in range(160,181)] \n",
    "    \n",
    "    plaw,_ = sco.curve_fit(powerlaw, vims_wave[band_channels], data[band_channels, point[0],point[1]], p0 = (.05,-2,0), maxfev = 10000)\n",
    "    adjusted_data = data[50:85, point[0],point[1]] - powerlaw(vims_wave[50:85],*plaw)\n",
    "    \n",
    "    plt.plot(vims_wave[50:85],adjusted_data)\n",
    "\n",
    "    fit,cov = sco.curve_fit(gaussian,vims_wave[50:85],adjusted_data,p0=(2.08,.125,.001),maxfev=100000)\n",
    "    plt.plot(vims_wave[50:85],gaussian(vims_wave[50:85],*fit))\n",
    "    plt.show()"
   ]
  },
  {
   "cell_type": "code",
   "execution_count": null,
   "metadata": {},
   "outputs": [],
   "source": [
    "powerlaw_and_gaussian(data,(15,35))"
   ]
  },
  {
   "cell_type": "code",
   "execution_count": null,
   "metadata": {},
   "outputs": [],
   "source": []
  }
 ],
 "metadata": {
  "kernelspec": {
   "display_name": "Python 3",
   "language": "python",
   "name": "python3"
  },
  "language_info": {
   "codemirror_mode": {
    "name": "ipython",
    "version": 3
   },
   "file_extension": ".py",
   "mimetype": "text/x-python",
   "name": "python",
   "nbconvert_exporter": "python",
   "pygments_lexer": "ipython3",
   "version": "3.8.3"
  }
 },
 "nbformat": 4,
 "nbformat_minor": 4
}
