{
 "cells": [
  {
   "cell_type": "markdown",
   "metadata": {},
   "source": [
    "<h1>\n",
    "Graphs from psql Query\n",
    "</h1>"
   ]
  },
  {
   "cell_type": "code",
   "execution_count": null,
   "metadata": {},
   "outputs": [],
   "source": [
    "from IPython.core.display import HTML\n",
    "import numpy as np\n",
    "import matplotlib\n",
    "from mpl_toolkits.mplot3d import Axes3D\n",
    "import matplotlib.pyplot as plt\n",
    "from matplotlib.colors import LogNorm\n",
    "from pylab import *\n",
    "import pysis\n",
    "import os\n",
    "import scipy.optimize as sco\n",
    "import time\n",
    "import ast\n",
    "from tkinter import *\n",
    "from astropy.time import Time\n",
    "%matplotlib qt\n",
    "from IPython.core.display import HTML \n",
    "HTML(\"<style>.container { width:96% !important; }</style>\") "
   ]
  },
  {
   "cell_type": "code",
   "execution_count": null,
   "metadata": {},
   "outputs": [],
   "source": [
    "def parse(s):\n",
    "    spectra=[]\n",
    "    start = -1\n",
    "    end = -1\n",
    "    \n",
    "    for i,char in enumerate(s):\n",
    "        if char == '{':\n",
    "            start=i\n",
    "            #print(i)\n",
    "        if char == '}':\n",
    "            end = i\n",
    "            #print(i)\n",
    "            break\n",
    "    if start==-1 and end==-1:\n",
    "        print('in',s)\n",
    "    #assert start!=-1 and end!=-1, 'start or end not initialized'\n",
    "    \n",
    "    return s[start:end].split(','),end+3\n",
    "    "
   ]
  },
  {
   "cell_type": "code",
   "execution_count": null,
   "metadata": {},
   "outputs": [],
   "source": [
    "def lat_lon_map(path_to_csv, header = True):\n",
    "    '''\n",
    "    Format: spectrum, lat, lon\n",
    "    '''\n",
    "    c=0\n",
    "    spectra_map = {}\n",
    "    with open(path_to_csv,'r') as f:\n",
    "        if header:\n",
    "            head = f.readline().split(',')\n",
    "            c+=1\n",
    "           # print(head)\n",
    "            #assert head == ['\"spectrum\"','\"latitude\"','\"longitude\"'], 'bad header'\n",
    "            \n",
    "        while True:\n",
    "            try:\n",
    "                entry = f.readline()\n",
    "            except:\n",
    "                break\n",
    "            if entry == '':\n",
    "                break\n",
    "            #print(entry)\n",
    "            #print(c)\n",
    "            if c == 144:\n",
    "                print('entry1',entry)\n",
    "            if c==145:\n",
    "                print('entry',f\"'{entry}'\")\n",
    "            spectra, i = parse(entry)\n",
    "            c+=1\n",
    "            #print(entry[i:])\n",
    "            coordinates = [float(x) for x in entry[i:].split(',')]\n",
    "            spectra_map[tuple(coordinates)] = float(spectra[69])\n",
    "    #print(spectra_map)\n",
    "    \n",
    "    #fig = plt.figure(figsize=(6,6))\n",
    "#     #ax=fig.add_subplot(111)\n",
    "#     x_list=np.array([t[0] for t in spectra_map])\n",
    "#     y_list=np.array([t[1] for t in spectra_map])\n",
    "#     z_list=np.array([spectra_map[t] for t in spectra_map])\n",
    "#     N = int(len(z_list)**.5)\n",
    "#     z = z_list.reshape(N, N)\n",
    "#     plt.imshow(z, extent=(np.amin(x_list), np.amax(x_list), np.amin(y_list), np.amax(y_list)), norm=LogNorm(), aspect = 'auto')\n",
    "    #plt.colorbar()\n",
    "    #plt.show()\n",
    "    #ax.scatter(x,y,s=20,c=z,marker='o')\n",
    "    #plt.show()\n",
    "    return spectra_map"
   ]
  },
  {
   "cell_type": "code",
   "execution_count": null,
   "metadata": {},
   "outputs": [],
   "source": []
  },
  {
   "cell_type": "code",
   "execution_count": null,
   "metadata": {
    "scrolled": false
   },
   "outputs": [],
   "source": [
    "d=lat_lon_map('vims_sample.csv')"
   ]
  },
  {
   "cell_type": "code",
   "execution_count": null,
   "metadata": {},
   "outputs": [],
   "source": [
    "coords = np.array([key for key in lat_lon_map('vims_sample.csv')])\n",
    "values  = np.array([d[key] for key in d])"
   ]
  },
  {
   "cell_type": "code",
   "execution_count": null,
   "metadata": {},
   "outputs": [],
   "source": [
    "np.shape(coords)"
   ]
  },
  {
   "cell_type": "code",
   "execution_count": null,
   "metadata": {},
   "outputs": [],
   "source": [
    "plt.scatter(coords[:,1],coords[:,0],c=values)\n",
    "plt.show()"
   ]
  },
  {
   "cell_type": "code",
   "execution_count": null,
   "metadata": {},
   "outputs": [],
   "source": [
    "values"
   ]
  },
  {
   "cell_type": "code",
   "execution_count": null,
   "metadata": {},
   "outputs": [],
   "source": [
    "def spectra_time(file_path, header=True):\n",
    "    '''\n",
    "    Query format: name,ettime,starttime,spectrum\n",
    "    '''\n",
    "    c=0\n",
    "    spectra_map = {}\n",
    "    times = []\n",
    "    spectra = []\n",
    "    with open(file_path,'r') as f:\n",
    "        if header:\n",
    "            head = f.readline().split(',')\n",
    "            c+=1\n",
    "           # print(head)\n",
    "            #assert head == ['\"spectrum\"','\"latitude\"','\"longitude\"'], 'bad header'\n",
    "            \n",
    "        while True:\n",
    "            try:\n",
    "                entry = f.readline()\n",
    "            except:\n",
    "                break\n",
    "            if entry == '':\n",
    "                break\n",
    "\n",
    "            pre = entry.split('{')[0].strip('\"\",').split(',')\n",
    "        \n",
    "            \n",
    "            val = [float(x) for x in entry.split('{')[1].strip('\"\",}\\n').split(',')][69]\n",
    "            \n",
    "            ettime = pre[1]\n",
    "            starttime = pre[2]\n",
    "            times.append(starttime)\n",
    "            #times.append(float(ettime))\n",
    "\n",
    "            spectra.append(val)\n",
    "            \n",
    "            \n",
    "            c+=1\n",
    "    times = [x.strip('\"\"') for x in times]\n",
    "    times=Time(times, format = 'iso')\n",
    "    return times\n",
    "    #times = Time(times)\n",
    "    #reference = min(times)\n",
    "    #times = [x-reference for x in times]\n",
    "    #print(min(times),max(times))\n",
    "    \n",
    "    #plt.plot(times,spectra)\n",
    "    #plt.xlabel('Time')\n",
    "    #plt.ylabel('Channel 69')\n",
    "    #return times\n",
    "    \n",
    "    "
   ]
  },
  {
   "cell_type": "code",
   "execution_count": null,
   "metadata": {},
   "outputs": [],
   "source": [
    "spectra_time('time_query.csv')"
   ]
  },
  {
   "cell_type": "code",
   "execution_count": null,
   "metadata": {},
   "outputs": [],
   "source": [
    "s='\".ir_rc20final.cub\",479790615.82458,\"2015-03-16 15:09:08.255\",\"{0.194382,0.284426,0.322474,0.322494,0.30127,0.241985,0.212807,0.21033,0.254705,0.311648,0.34333,0.348531,0.332653,0.279205,0.159653,0.128643,0.0823748,0.102946,0.139297,0.215575,0.271144,0.28565,0.322472,0.34439,0.363996,0.302209,0.214272,0.152977,0.106971,0.0928069,0.0848248,0.0847778,0.116245,0.151605,0.178806,0.203885,0.247287,0.281221,0.302092,0.323497,0.333703,0.333642,0.344317,0.347004,0.284514,0.186298,0.14951,0.113332,0.102229,0.0687273,0.067334,0.0712966,0.0960734,0.0838043,0.0755305,0.0931671,0.130991,0.141831,0.137093,0.178511,0.222811,0.220579,0.186783,0.187897,0.205342,0.230087,0.268423,0.301533,0.312299,0.317182,0.318706,0.311149,0.295063,0.27713,0.258047,0.233001,0.183029,0.11491,0.0906072,0.0754269,0.0700612,0.0578374,0.0412106,0.0311792,0.0287896,0.0215927,0.026882,0.0261454,0.0243178,0.0276761,0.0261566,0.0348658,0.0416496,0.0374853,0.0454066,0.0667798,0.0902223,0.0986022,0.0942162,0.0862763,0.0830234,0.0629396,0.0539579,0.0537898,0.0740464,0.108787,0.134142,0.148984,0.162614,0.171567,0.180065,0.175131,0.174138,0.185487,0.198683,0.20099,0.179991,0.154156,0.149588,0.137606,0.143426,0.145526,0.156783,0.162121,0.146944,0.114536,0.085333,0.0849811,0.095472,0.0882909,0.0868465,0.0784785,0.0806093,0.0804553,0.0736663,0.0725698,0.0641576,0.0535372,0.0409584,0.031558,0.0240277,0.0181704,0.0145983,0.0110297,0.012669,0.0115286,0.00918054,0.00793622,0.00744998,0.0049367,0.00469943,0.00520611,0.00545771,0.00553457,0.00586126,0.00557545,0.00528883,0.0086567,0.0141442,0.018891,0.0149264,0.0175476,0.0195395,0.0185869,0.0186925,0.0226155,0.0260291,0.0302171,0.0367157,0.0322548,0.0323973,0.0295047,0.0270748,0.0273557,0.0242274,0.025344,0.0279772,0.0303601,0.0253501,0.0268517,0.0216063,0.037949,0.0344481,0.0372353,0.0423804,0.0450337,0.0467054,0.0537888,0.051019,0.0613274,0.0543543,0.0588283,0.0572599,0.0569131,0.055319,0.0502948,0.0499673,0.0525918,0.0448433,0.0396298,0.0398244,0.0363103,0.0379259,0.0367446,0.0384506,0.039201,0.0382772,0.0374508,0.0420842,0.0447851,0.0424614,0.0444055,0.0414423,0.0441306,0.0474537,0.0452832,0.0440401,0.0447092,0.0441251,0.0459295,-0.0373526,0.0364008,0.0313703,0.0275965,0.0276107,0.0237309,0.0286317,0.0305418,0.030823,0.0248066,0.0247931,0.0291216,0.0330259,0.0353875,0.0620115,0.0463806,0.0476541,0.0430033,0.0519956,0.0547372,0.0753414,0.0824188,0.0884639,0.0873224,0.0835375,0.0894735,0.0917435,0.0899437,0.0941771,0.0857462,0.0852437,0.091773,0.0975515,0.11085,0.0812841,0.0781327}\"'\n",
    "q=s.split('{')[1].strip('\",}').split(',')\n",
    "[float(x) for x in q]#q=[float(x) for x in s]"
   ]
  },
  {
   "cell_type": "code",
   "execution_count": null,
   "metadata": {},
   "outputs": [],
   "source": [
    "float('479790616.27217')"
   ]
  },
  {
   "cell_type": "code",
   "execution_count": null,
   "metadata": {},
   "outputs": [],
   "source": []
  }
 ],
 "metadata": {
  "kernelspec": {
   "display_name": "Python 3",
   "language": "python",
   "name": "python3"
  },
  "language_info": {
   "codemirror_mode": {
    "name": "ipython",
    "version": 3
   },
   "file_extension": ".py",
   "mimetype": "text/x-python",
   "name": "python",
   "nbconvert_exporter": "python",
   "pygments_lexer": "ipython3",
   "version": "3.8.3"
  }
 },
 "nbformat": 4,
 "nbformat_minor": 4
}
