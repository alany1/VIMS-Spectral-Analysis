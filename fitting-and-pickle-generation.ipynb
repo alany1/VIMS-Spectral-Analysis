{
 "cells": [
  {
   "cell_type": "markdown",
   "metadata": {},
   "source": [
    "## Fitting Routine and Pickle Generation\n",
    "\n",
    "Use a Gaussian fitting routine and powerlaw corrections to store important information about each spectra in a pickle (.pkl) file. Contents include:  \n",
    "\n",
    "* "
   ]
  },
  {
   "cell_type": "code",
   "execution_count": 52,
   "metadata": {},
   "outputs": [
    {
     "name": "stdout",
     "output_type": "stream",
     "text": [
      "Current progress: 50000\n",
      "Current progress: 100000\n",
      "Current progress: 150000\n",
      "Current progress: 200000\n",
      "Current progress: 250000\n",
      "DONE\n"
     ]
    }
   ],
   "source": [
    "from libraries import *\n",
    "from functions import *\n",
    "from fitting import *\n",
    "\n",
    "vims_wave = np.loadtxt('/home/alanyu/Dropbox (MIT)/VIMS_UROP/vims_wave.txt') "
   ]
  },
  {
   "cell_type": "markdown",
   "metadata": {},
   "source": [
    "### Define skewed gaussian\n",
    "\n",
    "PDF:\n",
    "$\\phi(x) = \\frac{1}{\\sigma \\sqrt{2\\pi}} e^{\\frac{-x^2}{2}}$  \n",
    "\n",
    "CDF:\n",
    "$\\Phi(x) = \\frac{1}{2}\\left[1+\\textrm{erf}\\left(\\frac{x}{\\sqrt{2}}\\right)\\right]$\n",
    "\n"
   ]
  },
  {
   "cell_type": "code",
   "execution_count": 39,
   "metadata": {},
   "outputs": [],
   "source": [
    "from scipy import pi,sqrt,exp\n",
    "from scipy.special import erf\n",
    "\n",
    "from pylab import plot,show\n",
    "\n",
    "def pdf(x):\n",
    "    return 1/sqrt(2*pi) * exp(-x**2/2)\n",
    "\n",
    "def cdf(x):\n",
    "    return (1 + erf(x/sqrt(2))) / 2\n",
    "\n",
    "def skew(x,A=.15,e=0,w=1,a=0):\n",
    "    t = (x-e) / w\n",
    "    return A * 2 / w * pdf(t) * cdf(a*t)"
   ]
  },
  {
   "cell_type": "code",
   "execution_count": 50,
   "metadata": {},
   "outputs": [
    {
     "name": "stdout",
     "output_type": "stream",
     "text": [
      "[ 0.02035622  2.13067864  0.20706066 -2.62370067]\n"
     ]
    },
    {
     "name": "stderr",
     "output_type": "stream",
     "text": [
      "<ipython-input-39-93c65d206f26>:7: DeprecationWarning: scipy.sqrt is deprecated and will be removed in SciPy 2.0.0, use numpy.lib.scimath.sqrt instead\n",
      "  return 1/sqrt(2*pi) * exp(-x**2/2)\n",
      "<ipython-input-39-93c65d206f26>:7: DeprecationWarning: scipy.exp is deprecated and will be removed in SciPy 2.0.0, use numpy.exp instead\n",
      "  return 1/sqrt(2*pi) * exp(-x**2/2)\n",
      "<ipython-input-39-93c65d206f26>:10: DeprecationWarning: scipy.sqrt is deprecated and will be removed in SciPy 2.0.0, use numpy.lib.scimath.sqrt instead\n",
      "  return (1 + erf(x/sqrt(2))) / 2\n"
     ]
    }
   ],
   "source": [
    "%matplotlib qt\n",
    "\n",
    "def test_skewed_gaussian:\n",
    "    plt.plot(vims_wave, sample)\n",
    "    fit,cov = sco.curve_fit(skew, vims_wave[60:85], sample[60:85], p0 = (1,2.0,.1,.1), maxfev=10000)\n",
    "    print(fit)\n",
    "    n = 2**10\n",
    "\n",
    "    e = 1.0 # location\n",
    "    w = 2.0 # scale\n",
    "\n",
    "    #x = np.linspace(-10,10,n) \n",
    "\n",
    "    plt.plot(vims_wave, skew(vims_wave,*fit))\n",
    "\n",
    "    #p = skew(x,e,w,0)\n",
    "    #plt.plot(x,p)\n",
    "\n",
    "    plt.show()"
   ]
  },
  {
   "cell_type": "code",
   "execution_count": 18,
   "metadata": {},
   "outputs": [],
   "source": [
    "sample=[ 0.0763505 ,  0.113136  ,  0.138922  ,  0.146524  ,  0.126     ,\n",
    "         0.0936954 ,  0.0795553 ,  0.0763359 ,  0.0885651 ,  0.111927  ,\n",
    "         0.131274  ,  0.140332  ,  0.13276   ,  0.100027  ,  0.0593369 ,\n",
    "         0.0431969 ,  0.0295527 ,  0.0313845 ,  0.042422  ,  0.0622391 ,\n",
    "         0.0827431 ,  0.0844537 ,  0.0981416 ,  0.109633  ,  0.124524  ,\n",
    "         0.0986692 ,  0.0649221 ,  0.046782  ,  0.0333819 ,  0.0279256 ,\n",
    "         0.0251519 ,  0.0251015 ,  0.0311578 ,  0.0397409 ,  0.046074  ,\n",
    "         0.0519955 ,  0.0599261 ,  0.0705508 ,  0.0756816 ,  0.0824274 ,\n",
    "         0.0849288 ,  0.0843681 ,  0.0910672 ,  0.0900338 ,  0.0759746 ,\n",
    "         0.0561447 ,  0.0431159 ,  0.029171  ,  0.0267057 ,  0.0200695 ,\n",
    "         0.0187427 ,  0.0184399 ,  0.0240378 ,  0.0220268 ,  0.0189923 ,\n",
    "         0.0214212 ,  0.0293037 ,  0.0326464 ,  0.0306571 ,  0.036423  ,\n",
    "         0.0447716 ,  0.0463914 ,  0.0401177 ,  0.0389254 ,  0.0412627 ,\n",
    "         0.0458172 ,  0.0524996 ,  0.0612893 ,  0.067655  ,  0.0680157 ,\n",
    "         0.0668292 ,  0.0634374 ,  0.0581618 ,  0.053786  ,  0.0497759 ,\n",
    "         0.0456458 ,  0.0370858 ,  0.0262122 ,  0.0201423 ,  0.0196605 ,\n",
    "         0.01502   ,  0.0145993 ,  0.0104222 ,  0.00829816,  0.00766398,\n",
    "         0.00582945,  0.00639436,  0.00664585,  0.00641143,  0.00662191,\n",
    "         0.00615382,  0.00789756,  0.00959572,  0.00899337,  0.0100685 ,\n",
    "         0.0135312 ,  0.0175461 ,  0.0192299 ,  0.019437  ,  0.0183067 ,\n",
    "         0.0178244 ,  0.0142984 ,  0.0128011 ,  0.0118281 ,  0.0146115 ,\n",
    "         0.018974  ,  0.0229973 ,  0.0251962 ,  0.0268029 ,  0.0278835 ,\n",
    "         0.0295337 ,  0.028922  ,  0.0286712 ,  0.0296955 ,  0.0304506 ,\n",
    "         0.0322539 ,  0.0296108 ,  0.0250212 ,  0.0235313 ,  0.0231137 ,\n",
    "         0.0220879 ,  0.0227238 ,  0.0239047 ,  0.0252192 ,  0.0239485 ,\n",
    "         0.024755  ,  0.0159124 ,  0.0144706 ,  0.0158311 ,  0.0163139 ,\n",
    "         0.015532  ,  0.0147352 ,  0.0140105 ,  0.0138146 ,  0.0131609 ,\n",
    "         0.0133049 ,  0.0116681 ,  0.0105337 ,  0.00912967,  0.00696093,\n",
    "         0.0058783 ,  0.0049139 ,  0.00309265,  0.00503374,  0.00594308,\n",
    "         0.00560349,  0.00465888,  0.00976294,  0.00556365,  0.00501114,\n",
    "         0.0049141 ,  0.00481217,  0.00448259,  0.00375686,  0.00249892,\n",
    "         0.00251354,  0.00173946,  0.00222623,  0.00399503,  0.00465567,\n",
    "         0.00364939,  0.00458168,  0.00441714,  0.00425123,  0.00398991,\n",
    "         0.00535471,  0.00572756,  0.0060232 ,  0.00644906,  0.00750685,\n",
    "         0.00699489,  0.00667122,  0.00535677,  0.00575776,  0.00491256,\n",
    "         0.00494304,  0.00554086,  0.00577313,  0.00562667,  0.00656119,\n",
    "         0.00271747,  0.0071823 ,  0.00723575,  0.00844791,  0.00801667,\n",
    "         0.00883152,  0.00875333,  0.00674968,  0.00812697,  0.00873263,\n",
    "         0.00820242,  0.00908446,  0.00940122,  0.00915391,  0.00861342,\n",
    "         0.00860309,  0.00783441,  0.00561173,  0.00828115,  0.00734115,\n",
    "         0.0077614 ,  0.00669838,  0.00639672,  0.00699716,  0.00758363,\n",
    "         0.00761619,  0.0066549 ,  0.00621219,  0.00773767,  0.0113726 ,\n",
    "         0.0071265 ,  0.0086467 ,  0.00436002,  0.00845115,  0.0111436 ,\n",
    "         0.00820303,  0.0090641 ,  0.00886425,  0.00923627,  0.00917696,\n",
    "        -0.00955639,  0.0102857 ,  0.00663556,  0.00656029, -0.00390061,\n",
    "         0.00864595,  0.00830415,  0.0106785 ,  0.0089553 ,  0.0116976 ,\n",
    "         0.00919417,  0.0112442 ,  0.0133215 ,  0.0156792 ,  0.0321566 ,\n",
    "         0.0113376 ,  0.0129676 ,  0.0116231 ,  0.00810663,  0.0121997 ,\n",
    "         0.0113557 ,  0.011379  ,  0.0160466 ,  0.0157362 ,  0.0239291 ,\n",
    "         0.0226613 ,  0.0177925 ,  0.0180675 ,  0.00777565,  0.0173084 ,\n",
    "         0.0197    ,  0.0156567 ,  0.0166365 ,  0.0131092 ,  0.0120099 ,\n",
    "         0.00838631]"
   ]
  },
  {
   "cell_type": "code",
   "execution_count": null,
   "metadata": {},
   "outputs": [],
   "source": []
  }
 ],
 "metadata": {
  "kernelspec": {
   "display_name": "Python 3",
   "language": "python",
   "name": "python3"
  },
  "language_info": {
   "codemirror_mode": {
    "name": "ipython",
    "version": 3
   },
   "file_extension": ".py",
   "mimetype": "text/x-python",
   "name": "python",
   "nbconvert_exporter": "python",
   "pygments_lexer": "ipython3",
   "version": "3.8.3"
  }
 },
 "nbformat": 4,
 "nbformat_minor": 4
}
