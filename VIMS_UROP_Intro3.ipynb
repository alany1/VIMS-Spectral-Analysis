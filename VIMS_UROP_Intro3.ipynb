{
 "cells": [
  {
   "cell_type": "code",
   "execution_count": null,
   "metadata": {
    "collapsed": true
   },
   "outputs": [],
   "source": [
    "#data[:,27.38]\n",
    "#Fit power law continuum\n",
    "#Substract power law fit\n",
    "#Fit gaussian\n",
    "\n",
    "amp_arr = np.zeros((64,64))\n",
    "width_arr = np.zeros((64,64))\n",
    "off_arr = np.zeros((64,64))\n",
    "for i in range(64):\n",
    "    for j in range(64):\n",
    "        \n",
    "        #Check to see if on disk of Titan\n",
    "        #Option 1) if data[69,i,j]<.01: continue\n",
    "        #Option 2) if nav[6,i,j]<-90: continue #nav[6] latitude \n",
    "        \n",
    "        temp_data = data[:,i,j]\n",
    "        #Fit power law\n",
    "        #subtract power law fit\n",
    "        #fit guassian\n",
    "        temp_fit,temp_cov = curve_fit(gaussian,vims_wave[64:85],temp_data[64:85,i,j],p0=(2.08,.15,0))\n",
    "        amp_arr[i,j] = temp_fit[0]\n",
    "        #Same for other parameters\n",
    "        \n",
    "#Display arrays and compare to other viewing geometries"
   ]
  }
 ],
 "metadata": {
  "kernelspec": {
   "display_name": "Python 3",
   "language": "python",
   "name": "python3"
  },
  "language_info": {
   "codemirror_mode": {
    "name": "ipython",
    "version": 3
   },
   "file_extension": ".py",
   "mimetype": "text/x-python",
   "name": "python",
   "nbconvert_exporter": "python",
   "pygments_lexer": "ipython3",
   "version": "3.8.3"
  }
 },
 "nbformat": 4,
 "nbformat_minor": 4
}
