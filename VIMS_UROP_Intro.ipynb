{
 "cells": [
  {
   "cell_type": "code",
   "execution_count": 1,
   "metadata": {},
   "outputs": [
    {
     "data": {
      "text/html": [
       "<style>.container { width:96% !important; }</style>"
      ],
      "text/plain": [
       "<IPython.core.display.HTML object>"
      ]
     },
     "execution_count": 1,
     "metadata": {},
     "output_type": "execute_result"
    }
   ],
   "source": [
    "from IPython.core.display import HTML\n",
    "import numpy as np\n",
    "\n",
    "\n",
    "HTML(\"<style>.container { width:96% !important; }</style>\")"
   ]
  },
  {
   "cell_type": "markdown",
   "metadata": {},
   "source": [
    "# testing"
   ]
  },
  {
   "cell_type": "code",
   "execution_count": 2,
   "metadata": {},
   "outputs": [],
   "source": [
    "%%capture\n",
    "import matplotlib\n",
    "matplotlib.use('Qt4Agg')\n",
    "from matplotlib import pyplot as plt"
   ]
  },
  {
   "cell_type": "code",
   "execution_count": null,
   "metadata": {},
   "outputs": [],
   "source": [
    "#Navigation information\n",
    "'''\n",
    "0: Number of Counts\n",
    "1: Phase *\n",
    "2: Emission * \n",
    "3: Incidence  *\n",
    "4: Local Emission  \n",
    "5: Local Incidence  \n",
    "6: Latitude\n",
    "7: Longitude  \n",
    "8: Pixel Resolution  \n",
    "9: Line Resolution  \n",
    "10: Sample Resolution  \n",
    "11: Detector Resolution  \n",
    "12: North Azimuth\n",
    "13: Sun Azimuth  \n",
    "14: Spacecraft Azmituh  \n",
    "15: Off Nadir Angle\n",
    "16: Subspacecraft Ground Azimuth  \n",
    "17: Subsolar Ground Azimuth\n",
    "18: Morphology = Pixel Resolution/cos(Emission Angle)\n",
    "19: Albedo = PixelResolution * [(1 / cos(EmissionAngle)) + (1 / cos(IncidenceAngle))]\n",
    "20: Right Ascension\n",
    "21: Declination\n",
    "22: Body Fixed Coordinate X\n",
    "23: Body Fixed Coordinate Y\n",
    "24: Body Fixed Coordinate Z\n",
    "'''\n"
   ]
  },
  {
   "cell_type": "markdown",
   "metadata": {},
   "source": [
    "Numpy arrays, slice with tuple\n",
    "\n",
    "Data: 256 bands, value of each pixel in 2D array  \n",
    "Label: description of cube  \n",
    "Nav: 25 measurement types, navigation info of each pixel in 2D array\n",
    "\n",
    "2 micron window = band 50-85\n"
   ]
  },
  {
   "cell_type": "code",
   "execution_count": null,
   "metadata": {
    "scrolled": true
   },
   "outputs": [],
   "source": [
    "import pysis\n",
    "data = pysis.CubeFile('/home/alanyu/Dropbox (MIT)/jupyter_folder/2005359T100445_2005360T101919/CM_1514281143_1_ir.cub').data\n",
    "lbl = pysis.CubeFile('/home/alanyu/Dropbox (MIT)/jupyter_folder/2005359T100445_2005360T101919/CM_1514281143_1_ir.cub').label\n",
    "nav = pysis.CubeFile('/home/alanyu/Dropbox (MIT)/jupyter_folder/2005359T100445_2005360T101919/CM_1514281143_1_ir_nav.cub').data\n",
    "\n",
    "#print(data) \n",
    "#print(lbl)\n",
    "#type(nav)\n",
    "print(nav[7,:,:])"
   ]
  },
  {
   "cell_type": "code",
   "execution_count": null,
   "metadata": {},
   "outputs": [],
   "source": [
    "from matplotlib import pyplot as plt\n",
    "#All values below vmin are colored black, reflectivity\n",
    "#cmap: coloring option greyscale\n",
    "plt.imshow(nav[7,:,:],vmin = -90, cmap='Greys_r') \n",
    "\n",
    "\n",
    "#Show image object\n",
    "plt.show()"
   ]
  },
  {
   "cell_type": "code",
   "execution_count": null,
   "metadata": {},
   "outputs": [],
   "source": [
    "#Band numbers and corresponding wavelengths in microns\n",
    "vims_wave = np.loadtxt('/home/alanyu/Dropbox (MIT)/VIMS_UROP/vims_wave.txt') \n",
    "print(type(vims_wave))\n",
    "print(vims_wave)"
   ]
  },
  {
   "cell_type": "code",
   "execution_count": null,
   "metadata": {},
   "outputs": [],
   "source": [
    "for i in range(64):\n",
    "    if nav[7,40,i]<0:\n",
    "        continue\n",
    "    #Plot reflectivity as a function of wavelength for a constant row value in the array:\n",
    "    #plt.plot(vims_wave,data[:,40,i],label='%0.1f'%nav[7,40,i])https://isis.astrogeology.usgs.gov/documents/InstallGuide/index.html\n",
    "    \n",
    "    #Plot reflectivity as a function of wavelength in the 2 micron window for a constant row value in the array\n",
    "    plt.plot(vims_wave[50:85],data[50:85,40,i],label='%0.1f'%nav[7,40,i])\n",
    "\n",
    "#Each line in the legend is the varying nav[n] value (n=7, longitude)\n",
    "plt.legend()\n",
    "plt.show()"
   ]
  },
  {
   "cell_type": "code",
   "execution_count": null,
   "metadata": {},
   "outputs": [],
   "source": [
    "%matplotlib inline\n",
    "plt.imshow(nav[7])\n",
    "\n",
    "plt.show()"
   ]
  },
  {
   "cell_type": "code",
   "execution_count": null,
   "metadata": {},
   "outputs": [],
   "source": [
    "np.shape(vims_wave)"
   ]
  },
  {
   "cell_type": "code",
   "execution_count": null,
   "metadata": {},
   "outputs": [],
   "source": [
    "help(plt.show)"
   ]
  },
  {
   "cell_type": "code",
   "execution_count": null,
   "metadata": {},
   "outputs": [],
   "source": [
    "len(nav[24,1,:])"
   ]
  },
  {
   "cell_type": "code",
   "execution_count": null,
   "metadata": {},
   "outputs": [],
   "source": [
    "def constant_value_nav(nav, nav_number,value):\n",
    "    \"\"\"\n",
    "    Given navigation data, an index into nav measurements, and a value, returns a set of all (i,j) with that value in nav. \n",
    "    \"\"\"\n",
    "    constants = []\n",
    "    for i in range(64):\n",
    "        for j in range(64):\n",
    "           # print(i)\n",
    "            if round(nav[nav_number,i,j]) == value:\n",
    "                #print(i)\n",
    "                constants.append((i,j))\n",
    "            else:\n",
    "                continue\n",
    "                \n",
    "    return constants\n",
    "\n"
   ]
  },
  {
   "cell_type": "markdown",
   "metadata": {},
   "source": [
    "1) All wavelengths for fixed lon, varying lat    \n",
    "    \n",
    "2) only two micron window"
   ]
  },
  {
   "cell_type": "code",
   "execution_count": null,
   "metadata": {},
   "outputs": [],
   "source": [
    "constant_longitude = constant_value_nav(nav, 7,312)\n",
    "print(constant_longitude)\n",
    "%matplotlib inline\n",
    "for lat in constant_longitude:\n",
    "    plt.plot(vims_wave, data[:,lat[0],lat[1]], label = '%0.1f'%nav[6,lat[0],lat[1]])\n",
    "    \n",
    "plt.legend()\n",
    "plt.show()\n",
    "\n",
    "#only two micron window\n",
    "for lat in constant_longitude:\n",
    "    plt.plot(vims_wave[50:85], data[50:85,lat[0],lat[1]], label = '%0.1f'%nav[6,lat[0],lat[1]])\n",
    "    \n",
    "plt.legend()\n",
    "plt.show()"
   ]
  },
  {
   "cell_type": "markdown",
   "metadata": {},
   "source": [
    "1) All wavelengths for fixed lat, varying lon   \n",
    "   \n",
    "2) Only two micron window"
   ]
  },
  {
   "cell_type": "code",
   "execution_count": null,
   "metadata": {},
   "outputs": [],
   "source": [
    "constant_latitude = constant_value_nav(nav, 6,0)\n",
    "\n",
    "print(constant_latitude)\n",
    "\n",
    "for lon in constant_latitude:\n",
    "    plt.plot(vims_wave, data[:,lon[0],lon[1]], label = '%0.1f'%nav[7,lon[0],lon[1]])\n",
    "    \n",
    "plt.legend()\n",
    "plt.show()\n",
    "\n",
    "#only two micron window\n",
    "for lon in constant_latitude:\n",
    "    plt.plot(vims_wave[50:85], data[50:85,lon[0],lon[1]], label = '%0.1f'%nav[7,lon[0],lon[1]])\n",
    "\n",
    "plt.legend()\n",
    "#plt.show()"
   ]
  },
  {
   "cell_type": "code",
   "execution_count": 3,
   "metadata": {
    "scrolled": true
   },
   "outputs": [
    {
     "name": "stderr",
     "output_type": "stream",
     "text": [
      "/home/alanyu/anaconda3/lib/python3.8/site-packages/pysis/env.py:33: RuntimeWarning: Could not find isis. Is `ISISROOT` set?\n",
      "  warnings.warn('Could not find isis. Is `ISISROOT` set?', RuntimeWarning)\n"
     ]
    }
   ],
   "source": [
    "import pysis\n",
    "import numpy as np\n",
    "import scipy.optimize as sco\n",
    "from matplotlib import pyplot as plt\n",
    "\n",
    "#Now make a function of a gaussian distribution\n",
    "def gaussian(x,mean,sigma,A):\n",
    "    \n",
    "    return A*np.exp( -((x-mean)**2.) / (2.*sigma**2.) )\n",
    "\n",
    "\n",
    "vims_wave = np.loadtxt('/home/alanyu/Dropbox (MIT)/VIMS_UROP/vims_wave.txt')\n",
    "#data = pysis.CubeFile('/home/alanyu/jupyter_folder/2005359T100445_2005360T101919/CM_1514281143_1_ir.cub').data\n",
    "\n",
    "#constant_latitude = constant_value_nav(nav,6,0)\n",
    "\n",
    "band_channels = [29,30,31,32,47,48,49,50,51,52,53,54,55,84,85,86,87,88,89,90] + [i for i in range(160,181)] \n",
    "\n",
    "def powerlaw(x,a, k, c):\n",
    "    \n",
    "    return a*x**k + c\n",
    "\n",
    "\n",
    "\n",
    "#fit,cov = sco.curve_fit(gaussian, vims_wave[50:85],data[50:85,53,40],p0=(2,.1,.1))\n"
   ]
  },
  {
   "cell_type": "code",
   "execution_count": null,
   "metadata": {},
   "outputs": [],
   "source": [
    "for lon in constant_latitude:\n",
    "    print(lon)\n",
    "    fit,cov = sco.curve_fit(gaussian, vims_wave[50:85],data[50:85,lon[0],lon[1]],p0=(2,.1,.1))\n",
    "    plt.plot(vims_wave, data[:,lon[0],lon[1]])\n",
    "    plt.plot(vims_wave,gaussian(vims_wave, *fit))\n",
    "    \n",
    "plt.show()"
   ]
  },
  {
   "cell_type": "code",
   "execution_count": 4,
   "metadata": {},
   "outputs": [
    {
     "name": "stdout",
     "output_type": "stream",
     "text": [
      "27.1 ms ± 1.24 ms per loop (mean ± std. dev. of 7 runs, 10 loops each)\n"
     ]
    }
   ],
   "source": [
    "#everything together\n",
    "#normal\n",
    "lbl = pysis.CubeFile('/home/alanyu/Dropbox (MIT)/VIMS_UROP/2016127T223449_2016130T200342/CM_1841286170_1_ir.cub').label\n",
    "data = pysis.CubeFile('/home/alanyu/Dropbox (MIT)/VIMS_UROP/2016127T223449_2016130T200342/CM_1841286170_1_ir.cub').data\n",
    "nav = pysis.CubeFile('/home/alanyu/Dropbox (MIT)/VIMS_UROP/2016127T223449_2016130T200342/CM_1841286170_1_ir_nav.cub').data\n",
    "\n",
    "#documentation\n",
    "#least squares, residual\n",
    "\n",
    "#filter: real amp at channel 69-70 > .01 (too dark)\n",
    "#loop through directory of directories\n",
    "%timeit fit,cov = sco.curve_fit(gaussian, vims_wave[50:85],data[50:85,15,30],p0=(2.08,.125,.001),maxfev=100000)\n",
    "\n",
    "# print(fit)\n",
    "# plt.plot(vims_wave,data[:,15,30])\n",
    "# plt.show()\n",
    "# plt.plot(vims_wave, gaussian(vims_wave,*fit))\n",
    "# plt.show()\n",
    "# print(vims_wave)\n",
    "# band_channels = [29,30,31,32,47,48,49,50,51,52,53,54,55,84,85,86,87,88,89,90] + [i for i in range(160,181)] \n",
    "\n",
    "# fit2, cov2 = sco.curve_fit(powerlaw, vims_wave[band_channels], data[band_channels, 15,30], p0 = (.05,-2,0), maxfev = 10000)\n",
    "# v = powerlaw(vims_wave,*fit2)\n",
    "# data2 = data[:,15,30]-v\n",
    "\n",
    "# plt.plot(vims_wave, data2)\n",
    "# #plt.show()\n",
    "\n",
    "# #add gaussian\n",
    "# fit3, cov3 = sco.curve_fit(gaussian, vims_wave[64:85], data2[64:85], p0 = (2.08,.125,.1), maxfev = 10000)\n",
    "# plt.plot(vims_wave, gaussian(vims_wave,*fit3))\n",
    "# plt.show()"
   ]
  },
  {
   "cell_type": "code",
   "execution_count": null,
   "metadata": {},
   "outputs": [],
   "source": [
    "%matplotlib qt\n",
    "\n",
    "#normal\n",
    "fit,cov = sco.curve_fit(gaussian, vims_wave[50:85],data[50:85,27,38],p0=(2.08,.125,.1))\n",
    "plt.plot(vims_wave,data[:,27,38])\n",
    "plt.plot(vims_wave, gaussian(vims_wave,*fit))\n",
    "plt.show()\n",
    "\n",
    "# #add powerlaw ax^k + c\n",
    "# band_channels = [29,30,31,32,47,48,49,50,51,52,53,54,55,84,85,86,87,88,89,90] + [i for i in range(160,181)] \n",
    "\n",
    "# fit2, cov2 = sco.curve_fit(powerlaw, vims_wave[band_channels], data[band_channels, 27,38], p0 = (.05,-2,0), maxfev = 10000)\n",
    "# v = powerlaw(vims_wave,*fit2)\n",
    "# data2 = data[:,27,38]-v\n",
    "\n",
    "# plt.plot(vims_wave, data2)\n",
    "# plt.show()\n",
    "\n",
    "\n",
    "# fit3, cov3 = sco.curve_fit(gaussian, vims_wave[64:85], data2[64:85], p0 = (2.08,.125,.1), maxfev = 10000)\n",
    "# plt.plot(vims_wave, gaussian(vims_wave,*fit3))\n",
    "# plt.plot(vims_wave,data[:,27,38])\n",
    "\n",
    "\n",
    "# plt.plot(vims_wave,powerlaw(vims_wave,*fit2))\n",
    "# plt.plot(vims_wave,gaussian(vims_wave,*fit))\n",
    "# plt.plot(vims_wave[band_channels], data[band_channels, 27, 38], '.')\n",
    "# plt.show()"
   ]
  },
  {
   "cell_type": "code",
   "execution_count": null,
   "metadata": {},
   "outputs": [],
   "source": [
    "#add powerlaw ax^k + c\n",
    "band_channels = [29,30,31,32,47,48,49,50,51,52,53,54,55,84,85,86,87,88,89,90] + [i for i in range(160,181)] \n",
    "\n",
    "fit2, cov2 = sco.curve_fit(powerlaw, vims_wave[band_channels], data[band_channels, 27,38], p0 = (.05,-2,0), maxfev = 10000)\n",
    "v = powerlaw(vims_wave,*fit2)\n",
    "data2 = data[:,27,38]-v\n",
    "print(v)\n",
    "plt.plot(vims_wave, data2)\n",
    "plt.show()\n",
    "\n",
    "#add gaussian\n",
    "fit3, cov3 = sco.curve_fit(gaussian, vims_wave[64:85], data2[64:85], p0 = (2.08,.125,.1), maxfev = 10000)\n",
    "plt.plot(vims_wave, gaussian(vims_wave,*fit3))\n",
    "plt.show()"
   ]
  },
  {
   "cell_type": "code",
   "execution_count": null,
   "metadata": {},
   "outputs": [],
   "source": [
    "import pysis\n",
    "import numpy as np\n",
    "import scipy.optimize as sco\n",
    "vims_wave = np.loadtxt('/home/alanyu/jupyter_folder/vims_wave.txt') \n",
    "data = pysis.CubeFile('/home/alanyu/jupyter_folder/2005359T100445_2005360T101919/CM_1514281143_1_ir.cub').data\n",
    "lbl = pysis.CubeFile('/home/alanyu/jupyter_folder/2005359T100445_2005360T101919/CM_1514281143_1_ir.cub').label\n",
    "nav = pysis.CubeFile('/home/alanyu/jupyter_folder/2005359T100445_2005360T101919/CM_1514281143_1_ir_nav.cub').data\n",
    "\n"
   ]
  },
  {
   "cell_type": "code",
   "execution_count": null,
   "metadata": {},
   "outputs": [],
   "source": [
    "def create_gaussian_array(cube):\n",
    "    means = np.zeros((64,64))\n",
    "    sigmas = np.zeros((64,64))\n",
    "    amps = np.zeros((64,64))\n",
    "    for i in range(64):\n",
    "        for j in range(64):\n",
    "            \n",
    "            if cube[69,i,j] < 0.01:\n",
    "                #not on disk of Titan\n",
    "                continue\n",
    "            else:\n",
    "                temp_data = cube[:,i,j]\n",
    "                #Fit power law\n",
    "                p_fit, p_cov = sco.curve_fit(powerlaw, vims_wave[band_channels], cube[band_channels, i,j], p0 = (.05,-2,0), maxfev = 10000)\n",
    "                p = powerlaw(vims_wave, *p_fit)\n",
    "                \n",
    "                #Subtract power law\n",
    "                new_data = cube[:,i,j] - p\n",
    "                \n",
    "                #Fit gaussian\n",
    "                fit,cov = sco.curve_fit(gaussian, vims_wave[64:85],cube[64:85,i,j],p0=(2.08,.125,.1))\n",
    "                means[i,j] = fit[0]\n",
    "                sigmas[i,j] = fit[1]\n",
    "                amps[i,j] = fit[2]\n",
    "                \n",
    "    \n",
    "    return (means,sigmas,amps)"
   ]
  },
  {
   "cell_type": "code",
   "execution_count": null,
   "metadata": {},
   "outputs": [],
   "source": [
    "def generate(array):\n",
    "    for i in range(64):\n",
    "        yield ('Row ' + str(i), array[i,:])\n",
    "generator = generate(create_gaussian_array(data)[2])"
   ]
  },
  {
   "cell_type": "code",
   "execution_count": null,
   "metadata": {},
   "outputs": [],
   "source": [
    "largest = 0\n",
    "for row in generator:\n",
    "    print(next(generator))\n"
   ]
  },
  {
   "cell_type": "code",
   "execution_count": null,
   "metadata": {},
   "outputs": [],
   "source": [
    "%matplotlib qt\n",
    "A = create_gaussian_array(data)[1]\n",
    "plt.imshow(A, vmin = 0, vmax = .2)\n",
    "plt.colorbar()\n",
    "np.max(A)"
   ]
  },
  {
   "cell_type": "code",
   "execution_count": null,
   "metadata": {},
   "outputs": [],
   "source": [
    "nav[7,10]"
   ]
  },
  {
   "cell_type": "code",
   "execution_count": null,
   "metadata": {},
   "outputs": [],
   "source": [
    "smallest_lon = None\n",
    "largest_lon = None\n",
    "for i in range(64):\n",
    "    for j in range(64):\n",
    "        if nav[7,i,j] >= 0 and (smallest_lon is None or nav[7,i,j] < smallest_lon):\n",
    "            smallest_lon=nav[7,i,j]\n",
    "        if largest_lon is None or nav[7,i,j] > largest_lon:\n",
    "            largest_lon = nav[7,i,j]\n",
    "            \n",
    "smallest_lat = None\n",
    "largest_lat = None\n",
    "for i in range(64):\n",
    "    for j in range(64):\n",
    "        if nav[6,i,j] >= 0 and (smallest_lat is None or nav[6,i,j] < smallest_lat):\n",
    "            smallest_lat=nav[6,i,j]\n",
    "        if largest_lat is None or nav[6,i,j] > largest_lat:\n",
    "            largest_lat = nav[6,i,j]"
   ]
  },
  {
   "cell_type": "code",
   "execution_count": null,
   "metadata": {},
   "outputs": [],
   "source": [
    "print(largest_lat)\n",
    "print(smallest_lat)\n",
    "\n",
    "print(largest_lon)\n",
    "print(smallest_lon)"
   ]
  },
  {
   "cell_type": "code",
   "execution_count": null,
   "metadata": {},
   "outputs": [],
   "source": [
    "import pysis\n",
    "\n",
    "data = pysis.CubeFile('/home/alanyu/Dropbox (MIT)/jupyter_folder/2016127T223449_2016130T200342/CM_1841283690_1_ir.cub').data\n",
    "lbl = pysis.CubeFile('/home/alanyu/Dropbox (MIT)/jupyter_folder/2016127T223449_2016130T200342/CM_1841283690_1_ir.cub').label\n",
    "nav = pysis.CubeFile('/home/alanyu/Dropbox (MIT)/jupyter_folder/2016127T223449_2016130T200342/CM_1841283690_1_ir_nav.cub').data\n",
    "length = lbl['IsisCube']['Instrument']['SwathLength']\n",
    "width = lbl['IsisCube']['Instrument']['SwathWidth']\n",
    "for i in range(width):\n",
    "    if nav[7,40,i]<0:\n",
    "        continue\n",
    "    #Plot reflectivity as a function of wavelength for a constant row value in the array:\n",
    "    #plt.plot(vims_wave,data[:,40,i],label='%0.1f'%nav[7,40,i])https://isis.astrogeology.usgs.gov/documents/InstallGuide/index.html\n",
    "    \n",
    "    #Plot reflectivity as a function of wavelength in the 2 micron window for a constant row value in the array\n",
    "    plt.plot(vims_wave[50:85],data[50:85,40,i],label='%0.1f'%nav[7,40,i])\n",
    "    \n",
    "plt.show()"
   ]
  },
  {
   "cell_type": "code",
   "execution_count": null,
   "metadata": {},
   "outputs": [],
   "source": []
  }
 ],
 "metadata": {
  "kernelspec": {
   "display_name": "Python 3",
   "language": "python",
   "name": "python3"
  },
  "language_info": {
   "codemirror_mode": {
    "name": "ipython",
    "version": 3
   },
   "file_extension": ".py",
   "mimetype": "text/x-python",
   "name": "python",
   "nbconvert_exporter": "python",
   "pygments_lexer": "ipython3",
   "version": "3.8.3"
  }
 },
 "nbformat": 4,
 "nbformat_minor": 4
}
