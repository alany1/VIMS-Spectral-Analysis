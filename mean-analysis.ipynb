{
 "cells": [
  {
   "cell_type": "code",
   "execution_count": 1,
   "metadata": {},
   "outputs": [
    {
     "name": "stderr",
     "output_type": "stream",
     "text": [
      "/home/alanyu/anaconda3/lib/python3.8/site-packages/pysis/env.py:33: RuntimeWarning: Could not find isis. Is `ISISROOT` set?\n",
      "  warnings.warn('Could not find isis. Is `ISISROOT` set?', RuntimeWarning)\n"
     ]
    },
    {
     "name": "stdout",
     "output_type": "stream",
     "text": [
      "Current progress: 50000\n",
      "Current progress: 100000\n",
      "Current progress: 150000\n",
      "Current progress: 200000\n",
      "Current progress: 250000\n",
      "DONE\n"
     ]
    }
   ],
   "source": [
    "from libraries import *\n",
    "from functions import *\n",
    "from fitting import *\n",
    "from util import *"
   ]
  },
  {
   "cell_type": "code",
   "execution_count": 4,
   "metadata": {},
   "outputs": [
    {
     "name": "stdout",
     "output_type": "stream",
     "text": [
      "{'1.2': {'gaussian': {'mean': 1.2707801211411223, 'sigma': -0.026745474356244997, 'amp': 0.08514593440482354}, 'skew': {'A': 0.005784864050315544, 'e': 1.2974522957279206, 'w': 0.04418363631482148, 'a': -3.5257581444671944, 'peak_channel': 1.27813, 'peak_value': 0.08909500508732324}, 'raw_peak_channel': 1.27813, 'raw_peak_value': 0.099412138334084}, '1.6': {'gaussian': {'mean': 1.5614566769317462, 'sigma': 0.05293952305352023, 'amp': 0.05325478905654311}, 'skew': {'A': 0.0071939767238004704, 'e': 1.6161792051156587, 'w': 0.08660421383648692, 'a': -2.9332039595552484, 'peak_channel': 1.57361, 'peak_value': 0.05434958161247187}, 'raw_peak_channel': 1.57361, 'raw_peak_value': 0.05985050474889782}, '2.0': {'gaussian': {'mean': 2.026625869629559, 'sigma': 0.05879105206589942, 'amp': 0.046457253239715834}, 'skew': {'A': 0.006979598967841126, 'e': 2.07548973490379, 'w': 0.08291989040436869, 'a': -1.5255195566857287, 'peak_channel': 2.03424, 'peak_value': 0.04605312114642638}, 'raw_peak_channel': 2.01781, 'raw_peak_value': 0.04957014959973939}, '1.0': {'gaussian': {'mean': 1.063274518318053, 'sigma': 0.025221997906768382, 'amp': 0.11541027146608981}, 'skew': {'A': 0.007426796399848753, 'e': 1.0885865722888886, 'w': 0.039936394929806586, 'a': -2.4377329084347696, 'peak_channel': 1.06541, 'peak_value': 0.11553096203570346}, 'raw_peak_channel': 1.06541, 'raw_peak_value': 0.1135042617524846}, 'powerlaw': {'scale': 0.04075177845188147, 'exponent': -2.444859133257737}}\n"
     ]
    }
   ],
   "source": [
    "%matplotlib qt\n",
    "def test_fit(i, channel = '2.0'):\n",
    "    result = fit(data[i]['spectrum'], True)\n",
    "    print(result)\n",
    "    plt.plot(vims_wave,data[i]['spectrum'], label = 'original')\n",
    "    \n",
    "    if 'powerlaw' in result:\n",
    "        plt.plot(vims_wave, data[i]['spectrum'] - powerlaw_no_constant(vims_wave, result['powerlaw']['scale'], result['powerlaw']['exponent']), label = 'Powerlaw Adjustment')\n",
    "    \n",
    "    plt.plot(vims_wave, gaussian(vims_wave, *result[channel]['gaussian'].values()), label = 'Gaussian')\n",
    "    plt.plot(vims_wave, skew(vims_wave, *(result[channel]['skew'][x] for x in result[channel]['skew'] if 'peak' not in x)), label = 'Skew')\n",
    "    plt.legend()\n",
    "\n",
    "test_fit(13, '2.0')"
   ]
  },
  {
   "cell_type": "code",
   "execution_count": null,
   "metadata": {},
   "outputs": [],
   "source": []
  }
 ],
 "metadata": {
  "kernelspec": {
   "display_name": "Python 3",
   "language": "python",
   "name": "python3"
  },
  "language_info": {
   "codemirror_mode": {
    "name": "ipython",
    "version": 3
   },
   "file_extension": ".py",
   "mimetype": "text/x-python",
   "name": "python",
   "nbconvert_exporter": "python",
   "pygments_lexer": "ipython3",
   "version": "3.8.3"
  }
 },
 "nbformat": 4,
 "nbformat_minor": 4
}
