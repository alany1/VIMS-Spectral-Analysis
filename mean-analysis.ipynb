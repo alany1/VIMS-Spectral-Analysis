{
 "cells": [
  {
   "cell_type": "code",
   "execution_count": null,
   "metadata": {},
   "outputs": [
    {
     "name": "stderr",
     "output_type": "stream",
     "text": [
      "/home/alanyu/anaconda3/lib/python3.8/site-packages/pysis/env.py:33: RuntimeWarning: Could not find isis. Is `ISISROOT` set?\n",
      "  warnings.warn('Could not find isis. Is `ISISROOT` set?', RuntimeWarning)\n"
     ]
    },
    {
     "name": "stdout",
     "output_type": "stream",
     "text": [
      "Current progress: 50000\n",
      "Current progress: 100000\n",
      "Current progress: 150000\n",
      "Current progress: 200000\n"
     ]
    }
   ],
   "source": [
    "import sys\n",
    "sys.path.insert(1, './scripts')\n",
    "\n",
    "from libraries import *\n",
    "from functions import *\n",
    "from fitting import *\n",
    "from util import *\n",
    "\n",
    "%matplotlib qt\n",
    "data[0]"
   ]
  },
  {
   "cell_type": "markdown",
   "metadata": {},
   "source": [
    "# Plot result from pickles\n",
    "\n",
    "Given an index and a channel, plot the spectra of the channel along with the fitted functions"
   ]
  },
  {
   "cell_type": "code",
   "execution_count": 3,
   "metadata": {},
   "outputs": [],
   "source": [
    "def plot_result(entry, channel):\n",
    "    entry = data[entry]\n",
    "    #print(entry['regular_fit']['powerlaw'])\n",
    "    fig, axs = plt.subplots(2, 2)\n",
    "    #print('powerlaw' in entry)\n",
    "    if 'powerlaw' in entry['regular_fit']:\n",
    "        axs[0,0].plot(vims_wave, entry['spectrum']-powerlaw_no_constant(vims_wave, *entry['regular_fit']['powerlaw'].values()), label = \"Spectra (powerlaw adjusted)\")\n",
    "        axs[0,0].plot(vims_wave, gaussian(vims_wave, *entry['regular_fit'][channel]['gaussian'].values()), label = 'Gaussian')\n",
    "        axs[0,0].plot(vims_wave, skew(vims_wave, *(entry['regular_fit'][channel]['skew'][x] for x in entry['regular_fit'][channel]['skew'] if 'peak' not in x)), label = 'Skew')\n",
    "        \n",
    "    else:\n",
    "        axs[0,0].plot(vims_wave, entry['spectrum'], label = \"Spectrum (no powerlaw adjustment)\")\n",
    "        axs[0,0].plot(vims_wave, gaussian(vims_wave, *entry['regular_fit'][channel]['gaussian'].values()), label = 'Gaussian')\n",
    "        axs[0,0].plot(vims_wave, skew(vims_wave, *(entry['regular_fit'][channel]['skew'][x] for x in entry['regular_fit'][channel]['skew'] if 'peak' not in x)), label = 'Skew')\n",
    "    \n",
    "    axs[0,1].plot(vims_wave, entry['spectrum'], label=\"raw\")\n",
    "    axs[0,1].plot(vims_wave, entry['stefan_spectrum'], label = \"Stefan\")\n",
    "    axs[0,1].plot(vims_wave, gaussian(vims_wave, *entry['stefan_fit'][channel]['gaussian'].values()), label = \"Gaussian\")\n",
    "    axs[0,1].plot(vims_wave, skew(vims_wave, *(entry['stefan_fit'][channel]['skew'][x] for x in entry['stefan_fit'][channel]['skew'] if 'peak' not in x)), label = \"Skew\")\n",
    "    \n",
    "    if 'powerlaw' in entry['stefan-plaw_fit']:\n",
    "        axs[1,0].plot(vims_wave, entry['spectrum'],label = 'raw')\n",
    "\n",
    "        axs[1,0].plot(vims_wave, entry['stefan_spectrum']-powerlaw_no_constant(vims_wave, *entry['stefan-plaw_fit']['powerlaw'].values()), label = \"Stefan spectra (powerlaw adjusted)\")\n",
    "        axs[1,0].plot(vims_wave, gaussian(vims_wave, *entry['stefan-plaw_fit'][channel]['gaussian'].values()), label = 'Gaussian')\n",
    "        axs[1,0].plot(vims_wave, skew(vims_wave, *(entry['stefan-plaw_fit'][channel]['skew'][x] for x in entry['stefan-plaw_fit'][channel]['skew'] if 'peak' not in x)), label = 'Skew')\n",
    "        \n",
    "    else:\n",
    "        axs[1,0].plot(vims_wave, entry['stefan_spectrum'], label = \"Stefan spectrum (no powerlaw adjustment)\")\n",
    "        axs[1,0].plot(vims_wave, gaussian(vims_wave, *entry['stefan-plaw_fit'][channel]['gaussian'].values()), label = 'Gaussian')\n",
    "        axs[1,0].plot(vims_wave, skew(vims_wave, *(entry['stefan-plaw_fit'][channel]['skew'][x] for x in entry['stefan-plaw_fit'][channel]['skew'] if 'peak' not in x)), label = 'Skew')\n",
    "    \n",
    "    \n",
    "    axs[0,0].legend()\n",
    "    axs[0,1].legend()\n",
    "    axs[1,0].legend()\n",
    "    \n",
    "    plt.show()\n",
    "\n",
    "plot_result(0,'2.0')"
   ]
  },
  {
   "cell_type": "code",
   "execution_count": 22,
   "metadata": {},
   "outputs": [
    {
     "data": {
      "text/plain": [
       "['new_pixels',\n",
       " 'belet',\n",
       " 'belet_V1649180633_1.ir_rc20final_6.527894053385_117.23227585525.pkl']"
      ]
     },
     "execution_count": 22,
     "metadata": {},
     "output_type": "execute_result"
    }
   ],
   "source": [
    "belet = glob.glob(\"new_pixels/belet/*.pkl\")\n",
    "belet[0].split('/')"
   ]
  },
  {
   "cell_type": "markdown",
   "metadata": {},
   "source": [
    "### Test stefan second order correction"
   ]
  },
  {
   "cell_type": "code",
   "execution_count": 16,
   "metadata": {},
   "outputs": [
    {
     "name": "stdout",
     "output_type": "stream",
     "text": [
      "1.6 gaussian mean\n",
      "1.6 gaussian mean\n",
      "1.6 gaussian mean\n",
      "1.6 gaussian mean\n",
      "1.6 gaussian mean\n",
      "1.0 gaussian mean\n",
      "1.6 gaussian mean\n",
      "1.2 gaussian mean\n",
      "1.6 gaussian mean\n",
      "1.2 gaussian mean\n",
      "1.6 gaussian mean\n",
      "1.2 gaussian mean\n",
      "1.2 gaussian mean\n",
      "1.0 gaussian mean\n",
      "1.2 gaussian mean\n",
      "100 75\n",
      "{'1.0': {'gaussian': {'mean': (0.9, 1.1)}}, '1.2': {'gaussian': {'mean': (1.1, 1.3)}}, '1.6': {'gaussian': {'mean': (1.5, 1.8)}}, '2.0': {'gaussian': {'mean': (1.9, 2.2)}}}\n"
     ]
    },
    {
     "data": {
      "text/plain": [
       "{'1.2': {'gaussian': {'mean': 1.2752755066599044,\n",
       "   'sigma': 0.01816872731006732,\n",
       "   'amp': 0.08176188929009903},\n",
       "  'skew': {'A': -0.04807092570484599,\n",
       "   'e': 0.011971725926982701,\n",
       "   'w': -1.330262998920826,\n",
       "   'a': 40.09370525489985,\n",
       "   'peak_channel': 1.13024,\n",
       "   'peak_value': 0.0,\n",
       "   'peak_channel_inferred': 1.13024,\n",
       "   'peak_value_inferred': 0.0},\n",
       "  'raw_peak_channel': 1.27813,\n",
       "  'raw_peak_value': 0.0852551884298572},\n",
       " '1.6': {'gaussian': {'mean': 1.5762844865664174,\n",
       "   'sigma': 0.0224818073137273,\n",
       "   'amp': 0.026633995296056052},\n",
       "  'skew': {'A': 0.0015159861315809863,\n",
       "   'e': 1.5997883768467882,\n",
       "   'w': 0.03895195957901163,\n",
       "   'a': -4.720226496435213,\n",
       "   'peak_channel': 1.59018,\n",
       "   'peak_value': 0.026443435056441953,\n",
       "   'peak_channel_inferred': 1.5848891539153915,\n",
       "   'peak_value_inferred': 0.02783803237340476},\n",
       "  'raw_peak_channel': 1.59018,\n",
       "  'raw_peak_value': 0.026427850055687832},\n",
       " '2.0': {'gaussian': {'mean': 2.027075352834752,\n",
       "   'sigma': 0.02865816991946863,\n",
       "   'amp': 0.034472582132720024},\n",
       "  'skew': {'A': 0.0025127755498380666,\n",
       "   'e': 1.9961871579007255,\n",
       "   'w': 0.04600186109973205,\n",
       "   'a': 2.672390268741134,\n",
       "   'peak_channel': 2.01781,\n",
       "   'peak_value': 0.03494550947300203,\n",
       "   'peak_channel_inferred': 2.0188754365436545,\n",
       "   'peak_value_inferred': 0.03497414354109009},\n",
       "  'raw_peak_channel': 2.01781,\n",
       "  'raw_peak_value': 0.03152310021543445},\n",
       " '1.0': {'gaussian': {'mean': 1.0663435157037489,\n",
       "   'sigma': -0.019098669804754696,\n",
       "   'amp': 0.10526909140321804},\n",
       "  'skew': {'A': 0.005378435795673543,\n",
       "   'e': 1.0890630522706999,\n",
       "   'w': 0.03555810587802418,\n",
       "   'a': -3.668458250749356,\n",
       "   'peak_channel': 1.06541,\n",
       "   'peak_value': 0.09602280620261162,\n",
       "   'peak_channel_inferred': 1.0736101200120012,\n",
       "   'peak_value_inferred': 0.10372322298789168},\n",
       "  'raw_peak_channel': 1.06541,\n",
       "  'raw_peak_value': 0.09408647060335833}}"
      ]
     },
     "execution_count": 16,
     "metadata": {},
     "output_type": "execute_result"
    }
   ],
   "source": [
    "def stefan_second_test(entry, c):\n",
    "    entry = data[entry]['stefan_spectrum']\n",
    "    wings = {'2.0': (65,76),\n",
    "            '1.2': (15, 27),\n",
    "            '1.6': (37, 47),\n",
    "            '1.0': (9, 16)}\n",
    "    \n",
    "    k = {'2.0': 1.29,\n",
    "        '1.2': 1.50,\n",
    "        '1.6': 1.6,\n",
    "        '1.0': 1.15}\n",
    "\n",
    "    new = np.array(entry)\n",
    "    \n",
    "    for channel in wings:\n",
    "        adjust = k[channel]*(entry[wings[channel][0]] + entry[wings[channel][1]])/2\n",
    "        new[wings[channel][0]:wings[channel][1]] -= adjust\n",
    "        \n",
    "    #plt.plot(vims_wave,entry, label = 'Stefan')\n",
    "    #plt.plot(vims_wave,new, label = 'Stefan Second Order')\n",
    "    \n",
    "    #print(np.max(new))\n",
    "    fits = fit(new, False, {'1.2':(15,27), '1.6':(37,47),'2.0':(65,76),'1.0':(9,16)})\n",
    "    #fits = fit(new, False, {'1.2':(15,27), '1.6':(32,55),'2.0':(60,85),'1.0':(7,18)})\n",
    "    #print(fits)\n",
    "    #return fits\n",
    "    #if fits:\n",
    "    #    plt.plot(vims_wave, gaussian(vims_wave, \n",
    "    #                             fits[c]['gaussian']['mean'], \n",
    "    #                             fits[c]['gaussian']['sigma'], \n",
    "    #                             fits[c]['gaussian']['amp']), label = 'Gaussian')\n",
    "    #plt.legend()\n",
    "    \n",
    "    #plt.show()\n",
    "    \n",
    "    return fits\n",
    "\n",
    "L = []\n",
    "good = 0\n",
    "for i in range(100):\n",
    "    fits = stefan_second_test(i, '1.2')\n",
    "    \n",
    "    L.append(fits)\n",
    "    \n",
    "reasonable_output = {'1.0': {'gaussian': {'mean': (0.9, 1.1)}},\n",
    " '1.2': {'gaussian': {'mean': (1.1, 1.3)}},\n",
    " '1.6': {'gaussian': {'mean': (1.5, 1.8)}},\n",
    " '2.0': {'gaussian': {'mean': (1.9, 2.2)}}}\n",
    "\n",
    "for entry in L:\n",
    "    if not entry:\n",
    "        continue\n",
    "    violate = False\n",
    "    \n",
    "    for channel in reasonable_output:\n",
    "        for fit_type in reasonable_output[channel]:\n",
    "            for param in reasonable_output[channel][fit_type]:\n",
    "                \n",
    "                low, high = reasonable_output[channel][fit_type][param]\n",
    "                if not low < entry[channel][fit_type][param] < high:\n",
    "                    print(channel, fit_type, param)\n",
    "                    violate = True\n",
    "    \n",
    "    if violate:\n",
    "        continue\n",
    "    good += 1\n",
    "    \n",
    "print(100, good)\n",
    "#len(L), len(filter_data(L))\n",
    "# num_bad = 0\n",
    "# num_bad2 = 0\n",
    "# for i in range(len(data)):\n",
    "#     fits = stefan_second_test(i, '1.2')\n",
    "#     if not fits or not 1.2 < fits['1.2']['gaussian']['mean'] < 1.3:\n",
    "#         num_bad += 1\n",
    "#     if not data[i]['stefan_fit'] or not 1.2 < data[i]['stefan_fit']['1.2']['gaussian']['mean'] < 1.3:\n",
    "#         num_bad2 += 1\n",
    "#     if i%100==0:\n",
    "#         print(num_bad, num_bad2, i)\n",
    "# print(num_bad)\n",
    "print(reasonable_output)\n",
    "stefan_second_test(40293,'1.2')"
   ]
  },
  {
   "cell_type": "code",
   "execution_count": 11,
   "metadata": {},
   "outputs": [
    {
     "data": {
      "text/plain": [
       "{'1.0': {'gaussian': {'mean': (0.9, 1.1)},\n",
       "  'skew': {'peak_channel': (0.9, 1.1)}},\n",
       " '1.2': {'gaussian': {'mean': (1.1, 1.3)},\n",
       "  'skew': {'peak_channel': (1.1, 1.3)}},\n",
       " '1.6': {'gaussian': {'mean': (1.5, 1.8)},\n",
       "  'skew': {'peak_channel': (1.5, 1.8)}},\n",
       " '2.0': {'gaussian': {'mean': (1.9, 2.2)},\n",
       "  'skew': {'peak_channel': (1.9, 2.2)}}}"
      ]
     },
     "execution_count": 11,
     "metadata": {},
     "output_type": "execute_result"
    }
   ],
   "source": [
    "reasonable_output"
   ]
  },
  {
   "cell_type": "markdown",
   "metadata": {},
   "source": [
    "### Time Bucketing and Restricting Viewing Geometry\n",
    "\n",
    "Call time_bucket to bucket all entries into k (default 20) equally spaced time buckets. Can also use the function viewing_geometry to specify the range of incidence, emission, and phase angles. "
   ]
  },
  {
   "cell_type": "code",
   "execution_count": null,
   "metadata": {},
   "outputs": [],
   "source": [
    "buckets = time_bucket(filtered_data)\n",
    "[(x, len(buckets[x])) for x in buckets]"
   ]
  },
  {
   "cell_type": "code",
   "execution_count": null,
   "metadata": {},
   "outputs": [],
   "source": [
    "viewing_geometry"
   ]
  },
  {
   "cell_type": "markdown",
   "metadata": {},
   "source": [
    "### Rainbow Plots\n",
    "\n",
    "Using the data split into time buckets, plot one gaussian for each time bucket to achieve a rainbow-like effect.\n",
    "\n",
    "![Two-micron rainbow](rainbow.png \"Rainbow\")"
   ]
  },
  {
   "cell_type": "code",
   "execution_count": null,
   "metadata": {},
   "outputs": [],
   "source": [
    "def plot_average_fits_rainbow(buckets, channel = '2.0', fit_type = 'regular_fit'):\n",
    "    ncolors = len(buckets)\n",
    "    colors = plt.cm.nipy_spectral(np.linspace(0.05,0.95,ncolors))\n",
    "    \n",
    "    parameters = {x: {} for x in buckets}\n",
    "    \n",
    "    for i, bucket in enumerate(buckets):\n",
    "        mean = []\n",
    "        amplitudes = []\n",
    "        width = []\n",
    "        \n",
    "        for entry in buckets[bucket]:\n",
    "            amplitudes.append(entry[fit_type][channel]['gaussian']['amp'])\n",
    "            width.append(entry[fit_type][channel]['gaussian']['sigma'])\n",
    "            mean.append(entry[fit_type][channel]['gaussian']['mean'])\n",
    "        \n",
    "        median = len(mean) // 2\n",
    "        \n",
    "        parameters[bucket]['mean'] = mean[median]\n",
    "        parameters[bucket]['width'] = width[median]\n",
    "        parameters[bucket]['amplitudes'] = amplitudes[median]\n",
    "        \n",
    "    for i, bucket in enumerate(parameters):\n",
    "        if parameters[bucket].get('mean', None) != None:\n",
    "            mean_, sigma_, amp_ = parameters[bucket]['mean'], parameters[bucket]['width'], parameters[bucket]['amplitudes']\n",
    "            x = np.linspace(0, 5, 1000)\n",
    "            plt.plot(x, gaussian(x, mean_, .1, 1), color = colors[i], label = bucket)\n",
    "\n",
    "    plt.legend()"
   ]
  },
  {
   "cell_type": "code",
   "execution_count": null,
   "metadata": {},
   "outputs": [],
   "source": [
    "plot_average_fits_rainbow(buckets, channel = '1.6', fit_type = 'stefan-plaw_fit')\n",
    "plot_average_fits_rainbow(buckets, channel = '2.0', fit_type = 'stefan-plaw_fit')\n",
    "plot_average_fits_rainbow(buckets, channel = '1.0', fit_type = 'stefan-plaw_fit')\n",
    "plot_average_fits_rainbow(buckets, channel = '1.2', fit_type = 'stefan-plaw_fit')\n"
   ]
  },
  {
   "cell_type": "markdown",
   "metadata": {},
   "source": [
    "### Temporal Plots\n",
    "\n",
    "Plot a multi-panel figure given a list of pixels displaying how best fit parameters change with time."
   ]
  },
  {
   "cell_type": "code",
   "execution_count": null,
   "metadata": {},
   "outputs": [],
   "source": [
    "def plot_temporal(data, channel = '2.0', sample_every = 100):\n",
    "    \n",
    "    fig, axs = plt.subplots(4,3)\n",
    "    \n",
    "    info = {'stefan_g': {x: [] for x in data[0]['stefan_fit'][channel]['gaussian']},\n",
    "            'stefan_s': {x: [] for x in data[0]['stefan_fit'][channel]['skew']},\n",
    "            'regular_g': {x: [] for x in data[0]['regular_fit'][channel]['gaussian']},\n",
    "            'regular_s': {x: [] for x in data[0]['regular_fit'][channel]['skew']},\n",
    "            'ettimes': [],\n",
    "            'starttimes': [],\n",
    "            'jtimes': [],\n",
    "            'incidences': [],\n",
    "            'emissions': [],\n",
    "            'phases': [],\n",
    "            'powerlaw': {'scales': [], 'exps': []}}\n",
    "            \n",
    "    for i,entry in enumerate(data):\n",
    "        if i%sample_every == 0:\n",
    "            for x in entry['stefan_fit'][channel]['gaussian']:\n",
    "                info['stefan_g'][x].append(entry['stefan_fit'][channel]['gaussian'][x])\n",
    "\n",
    "            for x in entry['stefan_fit'][channel]['skew']:\n",
    "                info['stefan_s'][x].append(entry['stefan_fit'][channel]['skew'][x])\n",
    "\n",
    "            for x in entry['regular_fit'][channel]['gaussian']:\n",
    "                info['regular_g'][x].append(entry['regular_fit'][channel]['gaussian'][x])\n",
    "\n",
    "            for x in entry['regular_fit'][channel]['skew']:\n",
    "                info['regular_s'][x].append(entry['regular_fit'][channel]['skew'][x]) \n",
    "\n",
    "            info['ettimes'].append(entry['ettime'])\n",
    "            info['starttimes'].append(entry['starttime'])#[:-19])\n",
    "            info['incidences'].append(entry['incidence'])\n",
    "            info['emissions'].append(entry['emission'])\n",
    "            info['phases'].append(entry['phase'])\n",
    "            info['jtimes'].append(Time(entry['starttime'], format = 'iso').jd)\n",
    "\n",
    "            if 'powerlaw' in entry['regular_fit']:\n",
    "                info['powerlaw']['scales'].append(entry['regular_fit']['powerlaw']['scale'])\n",
    "                info['powerlaw']['exps'].append(entry['regular_fit']['powerlaw']['exponent'])\n",
    "            else:\n",
    "                info['powerlaw']['scales'].append(None)\n",
    "                info['powerlaw']['exps'].append(None)\n",
    "\n",
    "#     for i in range(1):\n",
    "#         for j in range(2):\n",
    "#             #continue\n",
    "#             axs[i, j].xaxis.set_tick_params(rotation=30, labelsize=5)\n",
    "\n",
    "#             axs[i, j].set_xticks(sorted(list(set(info['jtimes'][::100]))))\n",
    "#             axs[i, j].set_xticklabels(sorted(list(set(info['starttimes'][::100]))))\n",
    "    \n",
    "    print(len(info['stefan_g']['mean']))\n",
    "    axs[0, 0].xaxis.set_tick_params(rotation=30, labelsize=5)\n",
    "    axs[0, 0].scatter(info['jtimes'], info['regular_g']['mean'], alpha = .3)\n",
    "    axs[0, 0].set_xticks(sorted(list(set(info['jtimes'][::100]))))\n",
    "    axs[0, 0].set_xticklabels(sorted(list(set(info['starttimes'][::100]))))\n",
    "    axs[0, 0].set_title('Regular Gaussian Mean')\n",
    "    p = np.polyfit(info['jtimes'], info['regular_g']['mean'], 1)\n",
    "    fit = np.polyval(p, info['jtimes'])\n",
    "    axs[0, 0].plot(info['jtimes'], fit, c = 'r')\n",
    "    print(\"Regular Gaussian Mean\", fit[0], fit[-1], p)\n",
    "    \n",
    "    axs[0, 1].scatter(info['jtimes'], info['regular_g']['sigma'], alpha = .3)\n",
    "    axs[0, 1].set_title('Regular Gaussian Width')\n",
    "    axs[0, 1].set_ylim([0,.2])\n",
    "    \n",
    "    \n",
    "    axs[0, 2].scatter(info['jtimes'], info['regular_g']['amp'], alpha = .3)\n",
    "    axs[0, 2].set_title('Regular Gaussian Amplitude')\n",
    "    \n",
    "    axs[1, 0].scatter(info['jtimes'], info['regular_s']['peak_channel_inferred'], alpha = .3)\n",
    "    axs[1, 0].set_title('Regular Skew Peak Channel')\n",
    "    p = np.polyfit(info['jtimes'], info['regular_s']['peak_channel_inferred'], 1)\n",
    "    fit = np.polyval(p, info['jtimes'])\n",
    "    axs[1, 0].plot(info['jtimes'], fit, c = 'r')\n",
    "    print(\"Regular Skew Peak Channel\", fit[0], fit[-1], p)\n",
    "    \n",
    "    axs[1, 1].scatter(info['jtimes'], info['regular_s']['peak_value_inferred'], alpha = .3)\n",
    "    axs[1, 1].set_title('Regular Skew Peak Value')\n",
    "    \n",
    "    axs[1, 2].scatter(info['jtimes'], info['powerlaw']['scales'], alpha = .3)\n",
    "    axs[1, 2].set_title('Powerlaw Scale')\n",
    "    axs[1, 2].set_ylim(-.5, .2)\n",
    "    \n",
    "    axs[2, 0].scatter(info['jtimes'], info['powerlaw']['exps'], alpha = .3)\n",
    "    axs[2, 0].set_title('Powerlaw Exponent')\n",
    "    axs[2, 0].set_ylim(-5,0)\n",
    "    \n",
    "    axs[2, 1].scatter(info['jtimes'], info['stefan_g']['mean'], alpha = .3)\n",
    "    axs[2, 1].set_title('Stefan Gaussian Mean')\n",
    "    p = np.polyfit(info['jtimes'], info['stefan_g']['mean'], 1)\n",
    "    fit = np.polyval(p, info['jtimes'])\n",
    "    axs[2, 1].plot(info['jtimes'], fit, c = 'r')\n",
    "    print(\"Stefan Gaussian Mean\", fit[0], fit[-1], p)\n",
    "    \n",
    "    axs[2, 2].scatter(info['jtimes'], info['stefan_g']['sigma'], alpha = .3)\n",
    "    axs[2, 2].set_title('Stefan Gaussian Width')\n",
    "    axs[2, 2].set_ylim([0,0.2])\n",
    "    \n",
    "    axs[3, 0].scatter(info['jtimes'], info['stefan_g']['amp'], alpha = .3)\n",
    "    axs[3, 0].set_title('Stefan Gaussian Amplitude')\n",
    "    axs[3, 0].set_ylim([0,1])\n",
    "    \n",
    "    axs[3, 1].scatter(info['jtimes'], info['stefan_s']['peak_channel_inferred'], alpha = .3)\n",
    "    axs[3, 1].set_title('Stefan Skew Peak Channel')\n",
    "    p = np.polyfit(info['jtimes'], info['stefan_s']['peak_channel'], 1)\n",
    "    fit = np.polyval(p, info['jtimes'])\n",
    "    axs[3, 1].plot(info['jtimes'], fit, c = 'r')\n",
    "    print(\"Stefan Skew Peak Channel\", fit[0], fit[-1], p)\n",
    "    \n",
    "    axs[3, 2].scatter(info['jtimes'], info['stefan_s']['peak_value_inferred'], alpha = .3)\n",
    "    axs[3, 2].set_title('Stefan Skew Peak Value')\n",
    "    axs[3, 2].set_ylim([0, .25])\n",
    "    plt.tight_layout(pad=0.00001)\n",
    "    \n",
    "plot_temporal(filtered_data)\n",
    "    "
   ]
  },
  {
   "cell_type": "markdown",
   "metadata": {},
   "source": [
    "### Slopes for all (incidence, emission) bins\n",
    "\n",
    "Bin incidence and emission into bins of range 10 each and find linear fit for each bin."
   ]
  },
  {
   "cell_type": "code",
   "execution_count": null,
   "metadata": {},
   "outputs": [],
   "source": [
    "min(data, key = lambda x: x['incidence'])['incidence'], max(data, key = lambda x: x['incidence'])['incidence']"
   ]
  },
  {
   "cell_type": "code",
   "execution_count": null,
   "metadata": {},
   "outputs": [],
   "source": [
    "min(data, key = lambda x: x['emission'])['emission'], max(data, key = lambda x: x['emission'])['emission']"
   ]
  },
  {
   "cell_type": "code",
   "execution_count": null,
   "metadata": {},
   "outputs": [],
   "source": [
    "def assign_bins(data, spread):\n",
    "    bins = []\n",
    "    for i in range(90//spread):\n",
    "        current = [((spread*i),(spread*(i+1)))]\n",
    "        for j in range(90//spread):\n",
    "            bins.append(current + [(spread*j,spread*(j+1))])\n",
    "    \n",
    "    assignment = {tuple(x): [] for x in bins}\n",
    "    for entry in data:\n",
    "        for _bin in bins:\n",
    "            if _bin[0][0] <= entry['incidence'] <= _bin[0][1] and _bin[1][0] <= entry['emission'] <= _bin[1][1]:\n",
    "                assignment[tuple(_bin)].append(entry)\n",
    "    return assignment\n",
    "\n",
    "def analyze_bins(data, spread, channel, fit_type, function, mean_field):#:, weighted = False):\n",
    "    \n",
    "    binned_data = assign_bins(data, spread)\n",
    "    \n",
    "    bin_shifts = {b: None for b in binned_data}\n",
    "    \n",
    "    for bin in binned_data:\n",
    "        if not binned_data[bin] or len(binned_data[bin]) < 1000:\n",
    "            print(f\"Skipping bin {bin} due to little/no values being present.\")\n",
    "            continue\n",
    "        print(f\"Bin {bin} has length {len(binned_data[bin])}\")\n",
    "        times = [Time(entry['starttime'], format = 'iso').jd for entry in binned_data[bin]]\n",
    "        means = [entry[fit_type][channel][function][mean_field] for entry in binned_data[bin]]\n",
    "        \n",
    "        \n",
    "        p = np.polyfit(times, means, 1)\n",
    "        fit = np.polyval(p, times)\n",
    "        \n",
    "        bin_shifts[bin] = [fit[0], fit[-1], p]\n",
    "    \n",
    "    #if not weighted:\n",
    "    print(\"MEAN\", np.mean([x[-1][0] for x in bin_shifts.values() if x != None]))\n",
    "    #print(\"MEDIAN\", np.median([x[-1][0] for x in bin_shifts.values() if x != None]))\n",
    "    #else:\n",
    "    print(\"WEIGHTED MEAN\", np.average([bin_shifts[x][-1][0] for x in bin_shifts if bin_shifts[x]!= None], weights = [len(binned_data[x]) for x in bin_shifts if bin_shifts[x] != None]))\n",
    "    print(\"MEDIAN\", np.median([x[-1][0] for x in bin_shifts.values() if x != None]))\n",
    "    print(\"STDEV\", np.std([x[-1][0] for x in bin_shifts.values() if x!= None]))\n",
    "    \n",
    "    \n",
    "    return bin_shifts"
   ]
  },
  {
   "cell_type": "code",
   "execution_count": null,
   "metadata": {},
   "outputs": [],
   "source": [
    "analyze_bins(filtered_data, 10, '2.0', 'regular_fit', 'skew', 'peak_channel_inferred')#, False)"
   ]
  },
  {
   "cell_type": "markdown",
   "metadata": {},
   "source": [
    "```\n",
    "results from previous: (mean, weighted mean, median)\n",
    "\n",
    "\n",
    "analyze_bins(filtered_data, 90, '2.0', 'regular_fit', 'gaussian', 'mean') => -3.77e-06\n",
    "analyze_bins(filtered_data, 90, '2.0', 'stefan_fit', 'gaussian', 'mean') => -3.93e-06\n",
    "\n",
    "analyze_bins(filtered_data, 10, '2.0', 'stefan_fit', 'gaussian', 'mean') => -2.85e-06, -2.82e-06, -2.79e-06\n",
    "analyze_bins(filtered_data, 10, '1.6', 'stefan_fit', 'gaussian', 'mean') => -3.17e-06, -2.99e-06, -2.99e-06\n",
    "analyze_bins(filtered_data, 10, '1.2', 'stefan_fit', 'gaussian', 'mean') => -3.14e-06, -3.11e-06, -3.01e-06\n",
    "analyze_bins(filtered_data, 10, '1.0', 'stefan_fit', 'gaussian', 'mean') => -2.34e-06, -2.38e-06, -2.37e-06\n",
    "\n",
    "analyze_bins(filtered_data, 10, '2.0', 'regular_fit', 'gaussian', 'mean') => -2.94e-06, -2.96e-06, -2.95e-06\n",
    "analyze_bins(filtered_data, 10, '1.6', 'regular_fit', 'gaussian', 'mean') => -3.21e-06, -3.10e-06, -3.13e-06\n",
    "analyze_bins(filtered_data, 10, '1.2', 'regular_fit', 'gaussian', 'mean') => -2.55e-06, -2.70e-06, -2.65e-06\n",
    "analyze_bins(filtered_data, 10, '1.0', 'regular_fit', 'gaussian', 'mean') => -2.41e-06, , -2.58e-06, -2.65e-06\n",
    "\n",
    "analyze_bins(filtered_data, 10, '1.0', stefan-plaw_fit', 'gaussian', 'mean') => -2.42e-06, -2.58e-06, -2.65e-06\n",
    "analyze_bins(filtered_data, 10, '1.2', stefan-plaw_fit', 'gaussian', 'mean') => -2.55e-06, -2.70e-06, -2.65e-06\n",
    "analyze_bins(filtered_data, 10, '1.6', stefan-plaw_fit', 'gaussian', 'mean') => -3.21e-06, -3.10e-06, -3.13e-06\n",
    "analyze_bins(filtered_data, 10, '2.0', stefan-plaw_fit', 'gaussian', 'mean') => -2.94e-06, -2.96e-06, -2.95e-06\n",
    "\n",
    "skew weird because discrete values\n",
    "```"
   ]
  },
  {
   "cell_type": "code",
   "execution_count": null,
   "metadata": {},
   "outputs": [],
   "source": [
    "data[0]"
   ]
  },
  {
   "cell_type": "code",
   "execution_count": null,
   "metadata": {},
   "outputs": [],
   "source": [
    "def scatter_term_estimate(entry, channel, stefan = False):\n",
    "    \n",
    "    amp = entry['stefan_spectrum'][channel] if stefan else entry['spectrum'][channel]\n",
    "    \n",
    "    return amp * 4*(np.cos(np.radians(entry['incidence'])) + np.cos(np.radians(entry['emission'])))/(P(np.radians(entry['phase'])) * np.cos(np.radians(entry['incidence'])))\n",
    "    "
   ]
  },
  {
   "cell_type": "code",
   "execution_count": null,
   "metadata": {},
   "outputs": [],
   "source": [
    "[scatter_term_estimate(data[0], x) for x in range(255)]"
   ]
  },
  {
   "cell_type": "code",
   "execution_count": null,
   "metadata": {},
   "outputs": [],
   "source": [
    "s = data[0]['spectrum']\n",
    "s = s.tolist()\n",
    "plt.plot(vims_wave, s, label = 'old')\n",
    "plt.plot(vims_wave, s[:5]+[1.15*x for x in s[5:15]]+s[15:19]+[x*1.5 for x in s[19:32]] + s[32:40] + [1.6*x for x in s[40:50]] + s[50:65] + [x*1.29 for x in s[65:75]] + s[75:])\n",
    "\n",
    "plt.legend()"
   ]
  },
  {
   "cell_type": "code",
   "execution_count": null,
   "metadata": {},
   "outputs": [],
   "source": [
    "np.array([1,2,3]) + np.array([3,4,2,1])"
   ]
  },
  {
   "cell_type": "code",
   "execution_count": null,
   "metadata": {},
   "outputs": [],
   "source": []
  }
 ],
 "metadata": {
  "kernelspec": {
   "display_name": "Python 3",
   "language": "python",
   "name": "python3"
  },
  "language_info": {
   "codemirror_mode": {
    "name": "ipython",
    "version": 3
   },
   "file_extension": ".py",
   "mimetype": "text/x-python",
   "name": "python",
   "nbconvert_exporter": "python",
   "pygments_lexer": "ipython3",
   "version": "3.8.3"
  }
 },
 "nbformat": 4,
 "nbformat_minor": 4
}
